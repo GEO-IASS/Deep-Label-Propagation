{
 "cells": [
  {
   "cell_type": "code",
   "execution_count": 1,
   "metadata": {
    "collapsed": false
   },
   "outputs": [],
   "source": [
    "from __future__ import print_function\n",
    "import numpy as np\n",
    "import tensorflow as tf\n",
    "import matplotlib.pyplot as plt\n",
    "from LP import LP\n",
    "from DeepLP import DeepLP\n",
    "from DeepLP_Sparse import DeepLP_Sparse\n",
    "from DeepLP_RBF import DeepLP_RBF\n",
    "from DeepLP_WeightedRBF import DeepLP_WeightedRBF\n",
    "from DeepLP_WeightedRBF_t import DeepLP_WeightedRBF_t\n",
    "import pandas as pd\n",
    "\n",
    "from utils import *\n",
    "\n",
    "iris = False\n",
    "cora = True\n",
    "label_prob = 0.05\n",
    "hard = True\n",
    "percentile = 3\n",
    "\n",
    "sigma = 3\n",
    "theta = np.array([ 1 ,  1,  1,  1 ])"
   ]
  },
  {
   "cell_type": "markdown",
   "metadata": {},
   "source": [
    "### Iris Data"
   ]
  },
  {
   "cell_type": "code",
   "execution_count": 2,
   "metadata": {
    "collapsed": false
   },
   "outputs": [],
   "source": [
    "if iris:\n",
    "    # get labels, features and weights\n",
    "    # load iris data\n",
    "    iris   = datasets.load_iris()\n",
    "    data   = iris[\"data\"]\n",
    "    labels = iris[\"target\"]\n",
    "\n",
    "    # get label 0 and 1, and corresponding data\n",
    "    labels = labels[labels < 2]\n",
    "    data = data[np.where(labels < 2)]"
   ]
  },
  {
   "cell_type": "code",
   "execution_count": 3,
   "metadata": {
    "collapsed": false
   },
   "outputs": [],
   "source": [
    "if cora:\n",
    "    nodes = np.loadtxt('cora/cora_selected.csv',delimiter=',')\n",
    "    graph = np.loadtxt('cora/cora_graph.csv',delimiter=',')\n",
    "    id_    = nodes[:,0]\n",
    "    labels = nodes[:,1]\n",
    "    data   = nodes[:,2:]"
   ]
  },
  {
   "cell_type": "markdown",
   "metadata": {},
   "source": [
    "### Cora Data"
   ]
  },
  {
   "cell_type": "markdown",
   "metadata": {},
   "source": [
    "### Data Preparation"
   ]
  },
  {
   "cell_type": "code",
   "execution_count": 4,
   "metadata": {
    "collapsed": false
   },
   "outputs": [
    {
     "name": "stderr",
     "output_type": "stream",
     "text": [
      "/Users/kojin/projects/graph_based_semi_supervised_learning/utils.py:41: FutureWarning: comparison to `None` will result in an elementwise object comparison in the future.\n",
      "  if G == None:\n"
     ]
    }
   ],
   "source": [
    "LX, Ly, UX, Uy, Uy_sol = random_unlabel(data,labels,label_prob=label_prob,hard=hard)\n",
    "features = np.vstack((LX,UX))\n",
    "if iris:\n",
    "    weights = rbf_kernel(features,s=sigma,percentile=percentile)\n",
    "if cora:\n",
    "    weights = rbf_kernel(features,G=graph)\n",
    "\n",
    "true_labels = np.hstack((Ly,Uy_sol))\n",
    "num_features = features.shape[1]\n",
    "num_labeled = len(Ly)\n",
    "num_unlabeled = len(Uy)\n",
    "num_nodes = num_labeled+num_unlabeled\n",
    "if iris:\n",
    "    graph = (weights > 0).astype(int)"
   ]
  },
  {
   "cell_type": "code",
   "execution_count": 5,
   "metadata": {
    "collapsed": false
   },
   "outputs": [],
   "source": [
    "# prepare features for NN\n",
    "LY = np.tile(Ly,(Ly.shape[0],1))\n",
    "np.fill_diagonal(LY, 0.5)\n",
    "UY = np.tile(Uy,(Ly.shape[0],1))\n",
    "\n",
    "masked_ = np.hstack((np.identity(LY.shape[0]),np.zeros((Ly.shape[0],Uy.shape[0]))))\n",
    "true_labeled = np.array([1] * LY.shape[0] + [0] * Uy.shape[0]).reshape(1,num_nodes)"
   ]
  },
  {
   "cell_type": "code",
   "execution_count": 6,
   "metadata": {
    "collapsed": false
   },
   "outputs": [],
   "source": [
    "unlabeled_test = np.hstack((np.zeros(LY.shape[0]),np.ones((Uy.shape[0])))).reshape(1,num_nodes)\n",
    "test_data = {\n",
    "    'X': np.hstack((Ly,Uy)).reshape(1,num_nodes),\n",
    "    'y': np.tile(true_labels,(Ly.shape[0],1))[1:2],\n",
    "    'unlabeled': unlabeled_test,\n",
    "    'labeled': (1 - unlabeled_test).reshape(1,num_nodes),\n",
    "    'true_labeled': true_labeled,\n",
    "    'masked':masked_[0:1]\n",
    "}"
   ]
  },
  {
   "cell_type": "code",
   "execution_count": 7,
   "metadata": {
    "collapsed": false
   },
   "outputs": [],
   "source": [
    "unlabeled_ = np.hstack((np.identity(LY.shape[0]),np.ones((Ly.shape[0],Uy.shape[0]))))\n",
    "data = {\n",
    "    'X':np.hstack((LY, UY)),\n",
    "    'y':np.reshape(true_labels,(1,len(true_labels))),\n",
    "    'unlabeled':unlabeled_,\n",
    "    'labeled':1-unlabeled_,\n",
    "    'true_labeled': true_labeled,\n",
    "    'masked':masked_\n",
    "}"
   ]
  },
  {
   "cell_type": "code",
   "execution_count": 30,
   "metadata": {
    "collapsed": false
   },
   "outputs": [
    {
     "data": {
      "text/plain": [
       "array([ 0.00091188,  0.00091188,  0.00091188,  0.00091188,  0.00091188,\n",
       "        0.00091188,  0.00091188,  0.00091188,  0.00091188,  0.00091188,\n",
       "        0.00012341,  0.00033546,  0.00091188,  0.00033546,  0.00033546,\n",
       "        0.00091188,  0.00091188])"
      ]
     },
     "execution_count": 30,
     "metadata": {},
     "output_type": "execute_result"
    }
   ],
   "source": [
    "a=np.sum(weights,axis=0)\n",
    "a[a < 0.001]"
   ]
  },
  {
   "cell_type": "markdown",
   "metadata": {},
   "source": [
    "# Label Propagation"
   ]
  },
  {
   "cell_type": "code",
   "execution_count": 36,
   "metadata": {
    "collapsed": false
   },
   "outputs": [],
   "source": [
    "lp = LP(num_nodes)\n",
    "# Uy_lp = np.rint(lp.closed(weights,Ly))\n",
    "Uy_lp_iter = np.rint(lp.iter_(weights,Ly,Uy,5000))"
   ]
  },
  {
   "cell_type": "code",
   "execution_count": 37,
   "metadata": {
    "collapsed": false
   },
   "outputs": [
    {
     "name": "stdout",
     "output_type": "stream",
     "text": [
      "[Accuracy] Iter Solution: 0.506235385814\n",
      "[RMSE] Iter solution 7.59664848012\n"
     ]
    }
   ],
   "source": [
    "print(\"[Accuracy] Iter Solution:\", accuracy(Uy_sol, Uy_lp_iter))\n",
    "print(\"[RMSE] Iter solution\", rmse(Uy_sol, Uy_lp_iter))"
   ]
  },
  {
   "cell_type": "code",
   "execution_count": 11,
   "metadata": {
    "collapsed": false
   },
   "outputs": [
    {
     "name": "stdout",
     "output_type": "stream",
     "text": [
      "[Accuracy] Closed solution: 0.697194076383  Iter Solution: 0.697194076383\n",
      "[RMSE] Closed solution 0.302805923617  Iter solution 0.302805923617\n"
     ]
    }
   ],
   "source": [
    "# print(\"[Accuracy] Closed solution:\", accuracy(Uy_sol, Uy_lp), \" Iter Solution:\", accuracy(Uy_sol, Uy_lp_iter))\n",
    "# print(\"[RMSE] Closed solution\", rmse(Uy_sol, Uy_lp), \" Iter solution\", rmse(Uy_sol, Uy_lp))"
   ]
  },
  {
   "cell_type": "code",
   "execution_count": 35,
   "metadata": {
    "collapsed": false
   },
   "outputs": [
    {
     "name": "stdout",
     "output_type": "stream",
     "text": [
      "1\n",
      "Objective: 711.135740091\n",
      "Accuracy: 0.458690568979\n",
      "RMSE: 0.887763055339\n",
      "2\n",
      "Objective: 423.779284557\n",
      "Accuracy: 0.187451286048\n",
      "RMSE: 0.844115354638\n",
      "3\n",
      "Objective: 393.026518654\n",
      "Accuracy: 0.457521434139\n",
      "RMSE: 0.772408417771\n",
      "4\n",
      "Objective: 323.772794078\n",
      "Accuracy: 0.295791114575\n",
      "RMSE: 0.779812938426\n",
      "5\n",
      "Objective: 311.032565399\n",
      "Accuracy: 0.458300857366\n",
      "RMSE: 0.747856586126\n",
      "10\n",
      "Objective: 253.149580936\n",
      "Accuracy: 0.394388152767\n",
      "RMSE: 0.784099766173\n",
      "100\n",
      "Objective: 149.288375247\n",
      "Accuracy: 0.496492595479\n",
      "RMSE: 1.16173031956\n",
      "1000\n",
      "Objective: 188.02783309\n",
      "Accuracy: 0.508573655495\n",
      "RMSE: 3.32540919719\n"
     ]
    }
   ],
   "source": [
    "for iter_ in [1,2,3,4,5,10,100,1000]:\n",
    "    print(iter_)\n",
    "    Uy_lp_iter = np.rint(lp.iter_(weights,Ly,Uy,iter_))\n",
    "    print(\"Objective:\", objective(Ly,np.rint(Uy_lp_iter),weights))\n",
    "    print(\"Accuracy:\", accuracy(Uy_sol,Uy_lp_iter))\n",
    "    print(\"RMSE:\", rmse(Uy_sol,Uy_lp_iter))"
   ]
  },
  {
   "cell_type": "markdown",
   "metadata": {},
   "source": [
    "# DeepLP"
   ]
  },
  {
   "cell_type": "code",
   "execution_count": 11,
   "metadata": {
    "collapsed": false
   },
   "outputs": [
    {
     "name": "stdout",
     "output_type": "stream",
     "text": [
      "Tensor(\"while/matmul:0\", shape=(?, 100), dtype=float32)\n"
     ]
    }
   ],
   "source": [
    "dlp = DeepLP(10, num_nodes, weights, 1)"
   ]
  },
  {
   "cell_type": "code",
   "execution_count": 12,
   "metadata": {
    "collapsed": false
   },
   "outputs": [],
   "source": [
    "pred_dlp = dlp.labelprop(test_data)\n",
    "Uy_dlp = np.rint(pred_dlp[:,num_labeled:]).reshape(num_unlabeled)"
   ]
  },
  {
   "cell_type": "code",
   "execution_count": 13,
   "metadata": {
    "collapsed": false
   },
   "outputs": [
    {
     "name": "stdout",
     "output_type": "stream",
     "text": [
      "Accuracy: 0.621052631579\n",
      "RMSE: 0.378947368421\n",
      "Objective: 168.968111634\n"
     ]
    }
   ],
   "source": [
    "print(\"Accuracy:\", accuracy(Uy_sol,Uy_dlp))\n",
    "print(\"RMSE:\", rmse(Uy_sol,Uy_dlp))\n",
    "print(\"Objective:\", objective(Ly,Uy_dlp,dlp.get_val(dlp.W)))"
   ]
  },
  {
   "cell_type": "markdown",
   "metadata": {},
   "source": [
    "# DeepLP_RBF"
   ]
  },
  {
   "cell_type": "code",
   "execution_count": 38,
   "metadata": {
    "collapsed": false
   },
   "outputs": [],
   "source": [
    "dlp_rbf = DeepLP_RBF(100, num_nodes, features, graph, sigma, lr=0.01)"
   ]
  }
 ],
 "metadata": {
  "kernelspec": {
   "display_name": "ml",
   "language": "python",
   "name": "ml"
  },
  "language_info": {
   "codemirror_mode": {
    "name": "ipython",
    "version": 3
   },
   "file_extension": ".py",
   "mimetype": "text/x-python",
   "name": "python",
   "nbconvert_exporter": "python",
   "pygments_lexer": "ipython3",
   "version": "3.6.2"
  }
 },
 "nbformat": 4,
 "nbformat_minor": 1
}
