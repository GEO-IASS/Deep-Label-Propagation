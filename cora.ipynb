{
 "cells": [
  {
   "cell_type": "code",
   "execution_count": 145,
   "metadata": {
    "collapsed": true
   },
   "outputs": [],
   "source": [
    "from __future__ import print_function\n",
    "import numpy as np\n",
    "import tensorflow as tf\n",
    "import matplotlib.pyplot as plt\n",
    "from LP import LP\n",
    "from DeepLP import DeepLP\n",
    "from DeepLP_Sparse import DeepLP_Sparse\n",
    "from DeepLP_RBF import DeepLP_RBF\n",
    "from DeepLP_WeightedRBF import DeepLP_WeightedRBF\n",
    "from DeepLP_WeightedRBF_t import DeepLP_WeightedRBF_t\n",
    "import pandas as pd\n",
    "\n",
    "from utils import *"
   ]
  },
  {
   "cell_type": "code",
   "execution_count": 146,
   "metadata": {
    "collapsed": false
   },
   "outputs": [],
   "source": [
    "nodes = np.loadtxt('cora/cora_selected.csv',delimiter=',')\n",
    "graph = np.loadtxt('cora/cora_graph.csv',delimiter=',')"
   ]
  },
  {
   "cell_type": "code",
   "execution_count": 10,
   "metadata": {
    "collapsed": false
   },
   "outputs": [],
   "source": [
    "id_    = nodes[:,0]\n",
    "labels = nodes[:,1]\n",
    "data   = nodes[:,2:]"
   ]
  },
  {
   "cell_type": "code",
   "execution_count": 11,
   "metadata": {
    "collapsed": false
   },
   "outputs": [],
   "source": [
    "LX, Ly, UX, Uy, Uy_sol = random_unlabel(data,labels)"
   ]
  },
  {
   "cell_type": "code",
   "execution_count": 12,
   "metadata": {
    "collapsed": false
   },
   "outputs": [
    {
     "name": "stderr",
     "output_type": "stream",
     "text": [
      "/Users/kojin/projects/graph_based_semi_supervised_learning/utils.py:41: FutureWarning: comparison to `None` will result in an elementwise object comparison in the future.\n",
      "  if G == None:\n"
     ]
    }
   ],
   "source": [
    "features = np.vstack((LX,UX))\n",
    "weights = rbf_kernel(features,G=graph)"
   ]
  },
  {
   "cell_type": "code",
   "execution_count": 40,
   "metadata": {
    "collapsed": true
   },
   "outputs": [],
   "source": [
    "def tnorm(W):\n",
    "    T = W / np.sum(W, axis=0)\n",
    "    Tnorm = T / np.sum(T, axis=1)\n",
    "    return Tnorm\n",
    "\n",
    "def closed(self,W,Ly):\n",
    "    n = len(Ly)\n",
    "    Tnorm = tnorm(W)\n",
    "    Tuu_norm = Tnorm[n:,n:]\n",
    "    Tul_norm = Tnorm[n:,:n]\n",
    "    Uy_lp = inv((np.identity(len(Tuu_norm))-Tuu_norm)) @ Tul_norm @ Ly\n",
    "    return Uy_lp"
   ]
  },
  {
   "cell_type": "code",
   "execution_count": 154,
   "metadata": {
    "collapsed": false
   },
   "outputs": [],
   "source": [
    "T = weights / np.sum(weights, axis=0, keepdims=1).reshape(1,num_nodes)\n",
    "Tnorm = T / np.sum(T, axis=1, keepdims=1).reshape(num_nodes,1)"
   ]
  },
  {
   "cell_type": "markdown",
   "metadata": {},
   "source": [
    "# LP"
   ]
  },
  {
   "cell_type": "code",
   "execution_count": 55,
   "metadata": {
    "collapsed": true
   },
   "outputs": [],
   "source": [
    "Uy_lp_iter = np.rint(lp.iter_(weights,Ly,Uy,100000))"
   ]
  },
  {
   "cell_type": "code",
   "execution_count": 7,
   "metadata": {
    "collapsed": false
   },
   "outputs": [
    {
     "ename": "LinAlgError",
     "evalue": "Singular matrix",
     "output_type": "error",
     "traceback": [
      "\u001b[0;31m---------------------------------------------------------------------------\u001b[0m",
      "\u001b[0;31mLinAlgError\u001b[0m                               Traceback (most recent call last)",
      "\u001b[0;32m<ipython-input-7-a1558cd092f7>\u001b[0m in \u001b[0;36m<module>\u001b[0;34m()\u001b[0m\n\u001b[1;32m      1\u001b[0m \u001b[0mlp\u001b[0m \u001b[0;34m=\u001b[0m \u001b[0mLP\u001b[0m\u001b[0;34m(\u001b[0m\u001b[0;34m)\u001b[0m\u001b[0;34m\u001b[0m\u001b[0m\n\u001b[0;32m----> 2\u001b[0;31m \u001b[0mUy_lp\u001b[0m \u001b[0;34m=\u001b[0m \u001b[0mnp\u001b[0m\u001b[0;34m.\u001b[0m\u001b[0mrint\u001b[0m\u001b[0;34m(\u001b[0m\u001b[0mlp\u001b[0m\u001b[0;34m.\u001b[0m\u001b[0mclosed\u001b[0m\u001b[0;34m(\u001b[0m\u001b[0mweights\u001b[0m\u001b[0;34m,\u001b[0m\u001b[0mLy\u001b[0m\u001b[0;34m)\u001b[0m\u001b[0;34m)\u001b[0m\u001b[0;34m\u001b[0m\u001b[0m\n\u001b[0m\u001b[1;32m      3\u001b[0m \u001b[0mUy_lp_iter\u001b[0m \u001b[0;34m=\u001b[0m \u001b[0mnp\u001b[0m\u001b[0;34m.\u001b[0m\u001b[0mrint\u001b[0m\u001b[0;34m(\u001b[0m\u001b[0mlp\u001b[0m\u001b[0;34m.\u001b[0m\u001b[0miter_\u001b[0m\u001b[0;34m(\u001b[0m\u001b[0mweights\u001b[0m\u001b[0;34m,\u001b[0m\u001b[0mLy\u001b[0m\u001b[0;34m,\u001b[0m\u001b[0mUy\u001b[0m\u001b[0;34m,\u001b[0m\u001b[0;36m40\u001b[0m\u001b[0;34m)\u001b[0m\u001b[0;34m)\u001b[0m\u001b[0;34m\u001b[0m\u001b[0m\n",
      "\u001b[0;32m~/projects/graph_based_semi_supervised_learning/LP.py\u001b[0m in \u001b[0;36mclosed\u001b[0;34m(self, W, Ly)\u001b[0m\n\u001b[1;32m     16\u001b[0m         \u001b[0mTuu_norm\u001b[0m \u001b[0;34m=\u001b[0m \u001b[0mTnorm\u001b[0m\u001b[0;34m[\u001b[0m\u001b[0mn\u001b[0m\u001b[0;34m:\u001b[0m\u001b[0;34m,\u001b[0m\u001b[0mn\u001b[0m\u001b[0;34m:\u001b[0m\u001b[0;34m]\u001b[0m\u001b[0;34m\u001b[0m\u001b[0m\n\u001b[1;32m     17\u001b[0m         \u001b[0mTul_norm\u001b[0m \u001b[0;34m=\u001b[0m \u001b[0mTnorm\u001b[0m\u001b[0;34m[\u001b[0m\u001b[0mn\u001b[0m\u001b[0;34m:\u001b[0m\u001b[0;34m,\u001b[0m\u001b[0;34m:\u001b[0m\u001b[0mn\u001b[0m\u001b[0;34m]\u001b[0m\u001b[0;34m\u001b[0m\u001b[0m\n\u001b[0;32m---> 18\u001b[0;31m         \u001b[0mUy_lp\u001b[0m \u001b[0;34m=\u001b[0m \u001b[0minv\u001b[0m\u001b[0;34m(\u001b[0m\u001b[0;34m(\u001b[0m\u001b[0mnp\u001b[0m\u001b[0;34m.\u001b[0m\u001b[0midentity\u001b[0m\u001b[0;34m(\u001b[0m\u001b[0mlen\u001b[0m\u001b[0;34m(\u001b[0m\u001b[0mTuu_norm\u001b[0m\u001b[0;34m)\u001b[0m\u001b[0;34m)\u001b[0m\u001b[0;34m-\u001b[0m\u001b[0mTuu_norm\u001b[0m\u001b[0;34m)\u001b[0m\u001b[0;34m)\u001b[0m \u001b[0;34m@\u001b[0m \u001b[0mTul_norm\u001b[0m \u001b[0;34m@\u001b[0m \u001b[0mLy\u001b[0m\u001b[0;34m\u001b[0m\u001b[0m\n\u001b[0m\u001b[1;32m     19\u001b[0m         \u001b[0;32mreturn\u001b[0m \u001b[0mUy_lp\u001b[0m\u001b[0;34m\u001b[0m\u001b[0m\n\u001b[1;32m     20\u001b[0m \u001b[0;34m\u001b[0m\u001b[0m\n",
      "\u001b[0;32m~/anaconda/envs/ml/lib/python3.6/site-packages/numpy/linalg/linalg.py\u001b[0m in \u001b[0;36minv\u001b[0;34m(a)\u001b[0m\n\u001b[1;32m    524\u001b[0m     \u001b[0msignature\u001b[0m \u001b[0;34m=\u001b[0m \u001b[0;34m'D->D'\u001b[0m \u001b[0;32mif\u001b[0m \u001b[0misComplexType\u001b[0m\u001b[0;34m(\u001b[0m\u001b[0mt\u001b[0m\u001b[0;34m)\u001b[0m \u001b[0;32melse\u001b[0m \u001b[0;34m'd->d'\u001b[0m\u001b[0;34m\u001b[0m\u001b[0m\n\u001b[1;32m    525\u001b[0m     \u001b[0mextobj\u001b[0m \u001b[0;34m=\u001b[0m \u001b[0mget_linalg_error_extobj\u001b[0m\u001b[0;34m(\u001b[0m\u001b[0m_raise_linalgerror_singular\u001b[0m\u001b[0;34m)\u001b[0m\u001b[0;34m\u001b[0m\u001b[0m\n\u001b[0;32m--> 526\u001b[0;31m     \u001b[0mainv\u001b[0m \u001b[0;34m=\u001b[0m \u001b[0m_umath_linalg\u001b[0m\u001b[0;34m.\u001b[0m\u001b[0minv\u001b[0m\u001b[0;34m(\u001b[0m\u001b[0ma\u001b[0m\u001b[0;34m,\u001b[0m \u001b[0msignature\u001b[0m\u001b[0;34m=\u001b[0m\u001b[0msignature\u001b[0m\u001b[0;34m,\u001b[0m \u001b[0mextobj\u001b[0m\u001b[0;34m=\u001b[0m\u001b[0mextobj\u001b[0m\u001b[0;34m)\u001b[0m\u001b[0;34m\u001b[0m\u001b[0m\n\u001b[0m\u001b[1;32m    527\u001b[0m     \u001b[0;32mreturn\u001b[0m \u001b[0mwrap\u001b[0m\u001b[0;34m(\u001b[0m\u001b[0mainv\u001b[0m\u001b[0;34m.\u001b[0m\u001b[0mastype\u001b[0m\u001b[0;34m(\u001b[0m\u001b[0mresult_t\u001b[0m\u001b[0;34m,\u001b[0m \u001b[0mcopy\u001b[0m\u001b[0;34m=\u001b[0m\u001b[0;32mFalse\u001b[0m\u001b[0;34m)\u001b[0m\u001b[0;34m)\u001b[0m\u001b[0;34m\u001b[0m\u001b[0m\n\u001b[1;32m    528\u001b[0m \u001b[0;34m\u001b[0m\u001b[0m\n",
      "\u001b[0;32m~/anaconda/envs/ml/lib/python3.6/site-packages/numpy/linalg/linalg.py\u001b[0m in \u001b[0;36m_raise_linalgerror_singular\u001b[0;34m(err, flag)\u001b[0m\n\u001b[1;32m     88\u001b[0m \u001b[0;34m\u001b[0m\u001b[0m\n\u001b[1;32m     89\u001b[0m \u001b[0;32mdef\u001b[0m \u001b[0m_raise_linalgerror_singular\u001b[0m\u001b[0;34m(\u001b[0m\u001b[0merr\u001b[0m\u001b[0;34m,\u001b[0m \u001b[0mflag\u001b[0m\u001b[0;34m)\u001b[0m\u001b[0;34m:\u001b[0m\u001b[0;34m\u001b[0m\u001b[0m\n\u001b[0;32m---> 90\u001b[0;31m     \u001b[0;32mraise\u001b[0m \u001b[0mLinAlgError\u001b[0m\u001b[0;34m(\u001b[0m\u001b[0;34m\"Singular matrix\"\u001b[0m\u001b[0;34m)\u001b[0m\u001b[0;34m\u001b[0m\u001b[0m\n\u001b[0m\u001b[1;32m     91\u001b[0m \u001b[0;34m\u001b[0m\u001b[0m\n\u001b[1;32m     92\u001b[0m \u001b[0;32mdef\u001b[0m \u001b[0m_raise_linalgerror_nonposdef\u001b[0m\u001b[0;34m(\u001b[0m\u001b[0merr\u001b[0m\u001b[0;34m,\u001b[0m \u001b[0mflag\u001b[0m\u001b[0;34m)\u001b[0m\u001b[0;34m:\u001b[0m\u001b[0;34m\u001b[0m\u001b[0m\n",
      "\u001b[0;31mLinAlgError\u001b[0m: Singular matrix"
     ]
    }
   ],
   "source": [
    "lp = LP()\n",
    "Uy_lp = np.rint(lp.closed(weights,Ly))\n",
    "Uy_lp_iter = np.rint(lp.iter_(weights,Ly,Uy,40))"
   ]
  },
  {
   "cell_type": "code",
   "execution_count": 47,
   "metadata": {
    "collapsed": false
   },
   "outputs": [
    {
     "ename": "NameError",
     "evalue": "name 'Uy_lp' is not defined",
     "output_type": "error",
     "traceback": [
      "\u001b[0;31m---------------------------------------------------------------------------\u001b[0m",
      "\u001b[0;31mNameError\u001b[0m                                 Traceback (most recent call last)",
      "\u001b[0;32m<ipython-input-47-a47fda8bbb5a>\u001b[0m in \u001b[0;36m<module>\u001b[0;34m()\u001b[0m\n\u001b[0;32m----> 1\u001b[0;31m \u001b[0mprint\u001b[0m\u001b[0;34m(\u001b[0m\u001b[0;34m\"[Accuracy] Closed solution:\"\u001b[0m\u001b[0;34m,\u001b[0m \u001b[0maccuracy\u001b[0m\u001b[0;34m(\u001b[0m\u001b[0mUy_sol\u001b[0m\u001b[0;34m,\u001b[0m \u001b[0mUy_lp\u001b[0m\u001b[0;34m)\u001b[0m\u001b[0;34m,\u001b[0m \u001b[0;34m\" Iter Solution:\"\u001b[0m\u001b[0;34m,\u001b[0m \u001b[0maccuracy\u001b[0m\u001b[0;34m(\u001b[0m\u001b[0mUy_sol\u001b[0m\u001b[0;34m,\u001b[0m \u001b[0mUy_lp_iter\u001b[0m\u001b[0;34m)\u001b[0m\u001b[0;34m)\u001b[0m\u001b[0;34m\u001b[0m\u001b[0m\n\u001b[0m\u001b[1;32m      2\u001b[0m \u001b[0mprint\u001b[0m\u001b[0;34m(\u001b[0m\u001b[0;34m\"[RMSE] Closed solution\"\u001b[0m\u001b[0;34m,\u001b[0m \u001b[0mrmse\u001b[0m\u001b[0;34m(\u001b[0m\u001b[0mUy_sol\u001b[0m\u001b[0;34m,\u001b[0m \u001b[0mUy_lp\u001b[0m\u001b[0;34m)\u001b[0m\u001b[0;34m,\u001b[0m \u001b[0;34m\" Iter solution\"\u001b[0m\u001b[0;34m,\u001b[0m \u001b[0mrmse\u001b[0m\u001b[0;34m(\u001b[0m\u001b[0mUy_sol\u001b[0m\u001b[0;34m,\u001b[0m \u001b[0mUy_lp\u001b[0m\u001b[0;34m)\u001b[0m\u001b[0;34m)\u001b[0m\u001b[0;34m\u001b[0m\u001b[0m\n",
      "\u001b[0;31mNameError\u001b[0m: name 'Uy_lp' is not defined"
     ]
    }
   ],
   "source": [
    "print(\"[Accuracy] Closed solution:\", accuracy(Uy_sol, Uy_lp), \" Iter Solution:\", accuracy(Uy_sol, Uy_lp_iter))\n",
    "print(\"[RMSE] Closed solution\", rmse(Uy_sol, Uy_lp), \" Iter solution\", rmse(Uy_sol, Uy_lp))"
   ]
  },
  {
   "cell_type": "code",
   "execution_count": null,
   "metadata": {
    "collapsed": true
   },
   "outputs": [],
   "source": [
    "Uy_lp_iter"
   ]
  },
  {
   "cell_type": "code",
   "execution_count": 56,
   "metadata": {
    "collapsed": false
   },
   "outputs": [
    {
     "name": "stdout",
     "output_type": "stream",
     "text": [
      " Iter Solution: 0.467511238251\n",
      " Iter solution 336.910502656\n"
     ]
    }
   ],
   "source": [
    "print( \" Iter Solution:\", accuracy(Uy_sol, Uy_lp_iter))\n",
    "print( \" Iter solution\", rmse(Uy_sol, Uy_lp_iter))"
   ]
  },
  {
   "cell_type": "code",
   "execution_count": 60,
   "metadata": {
    "collapsed": false
   },
   "outputs": [
    {
     "data": {
      "text/plain": [
       "array([   2.,    5.,    2.,    5.,    3.,    3.,    2.,    4.,    2.,\n",
       "          3.,    9.,    2.,    4.,    2.,    2.,    2.,    8.,    2.,\n",
       "         12.,    9.,    5.,    4.,    5.,    6.,    2.,    2.,    2.,\n",
       "          5.,    3.,    2.,    5.,    5.,    2.,    2.,    2.,    3.,\n",
       "          5.,    4.,    8.,   63.,    5.,   11.,    3.,    2.,    6.,\n",
       "          9.,    2.,    2.,    2.,    3.,    4.,    5.,    2.,    3.,\n",
       "          2.,    2.,    3.,    2.,    4.,    9.,   10.,   11.,    6.,\n",
       "          7.,    3.,   65.,    2.,    2.,   28.,   12.,    4.,    4.,\n",
       "          4.,   27.,    5.,    3.,    8.,    7.,   23.,    3.,    2.,\n",
       "         11.,    2.,    5.,    4.,    5.,    2.,   10.,    5.,   18.,\n",
       "          7.,    2.,    8.,    4.,   12.,    7.,    4.,    2.,   32.,\n",
       "          4.,    3.,    4.,    2.,    2.,    4.,    3.,    4.,    3.,\n",
       "          5.,    3.,   12.,    3.,    4.,   11.,   18.,  888.,   64.,\n",
       "          2.,    3.,    5.,    3.,    2.,    2.,    3.,    4.,    2.,\n",
       "          3.,    6.,    3.,    2.,    2.,    2.,    2.,    5.,    2.,\n",
       "          4.,    4.,    2.,    9.,    2.,   15.,    6.,    8.,    2.,\n",
       "          8.,    2.,    2.,    5.,    2.,    2.,    3.,    2.,    2.,\n",
       "          2.,    2.,    2.,    2.,    2.,    2.,    2.,    3.,    3.,\n",
       "          2.,   22.,    2.,    2.,    2.,    2.,    2.,    2.,    3.,\n",
       "          2.,   17.,    5.,    2.,   15.,    5.,   21.,    3.,    4.,\n",
       "         12.,    2.,    3.,    2.,    3.,    4.,    4.,    2.,    2.,\n",
       "          2.,    2.,    4.,    3.,    2.,    6.,    2.,    3.,    5.,\n",
       "          2.,    7.,    2.,    2.,    3.,   11.,    3.,    2.,    6.,\n",
       "          6.,    2.,    2.,    2.,    3.,    3.,    2.,    2.,    3.,\n",
       "          3.,    2.,    2.,   13.,    3.,    5.,    2.,    3.,    3.,\n",
       "          2.,    2.,    3.,    2.,    2.,    2.,    4.,    2.,    4.,\n",
       "          2.,    2.,    2.,    3.,    9.,    5.,    3.,   11.,    2.,\n",
       "          3.,    2.,   23.,    2.,    6.,    2.,    2.,    2.,    2.,\n",
       "          3.,    2.,    4.,    9.,   11.,    2.,    2.,    3.,    3.,\n",
       "          7.,    3.,    3.,    6.,    2.,    6.,    7.,    3.,    2.,\n",
       "          3.,    2.,    5.,    2.,    2.,    2.,    2.,    7.,    2.,\n",
       "          5.,    4.,    3.,    2.,    2.,    2.,    2.,    2.,    2.,\n",
       "          3.,    2.,    2.,    3.,    2.,    2.,   18.,   11.,   11.,\n",
       "          2.,    2.,    2.,    6.,    2.,    2.,    2.,    6.,    2.,\n",
       "          8.,    3.,    7.,    2.,    3.,    2.,    3.,    4.,    2.,\n",
       "          2.,    2.,    3.,    3.,    3.,    6.,    2.,    2.,    2.,\n",
       "          2.,    2.,    2.,    2.,    4.,    4.,    3.,    2.,    8.,\n",
       "          3.,    3.,    5.,   21.,    5.,    6.,    5.,    3.,    2.,\n",
       "          4.,    2.,    2.,    5.,    5.,    2.,   14.,   26.,   84.,\n",
       "          2.,    5.,    3.,    2.,    4.,    3.,    2.,    2.,   12.,\n",
       "          2.,    3.,    3.,    4.,    2.,    2.,    3.,    2.,    2.,\n",
       "          5.,    2.,    2.,    4.,   12.,    2.,    6.,    2.,   21.,\n",
       "          2.,    2.,    2.,    8.,    2.,    4.,    2.,    2.,    3.,\n",
       "          2.,    2.,    9.,    2.,    8.,    3.,    2.,    2.,    2.,\n",
       "          2.,    2.,    2.,    2.,    4.,    3.,    5.,    2.,    2.,\n",
       "          2.,    2.,    9.,    2.,    2.,    2.,    2.,   10.,    2.,\n",
       "          3.,    2.,    2.,    2.,    2.,    3.,    3.,    3.,    3.,\n",
       "         17.,    2.,    2.,    2.,   10.,    5.,    2.,   14.])"
      ]
     },
     "execution_count": 60,
     "metadata": {},
     "output_type": "execute_result"
    }
   ],
   "source": [
    "Uy_lp_iter[Uy_lp_iter > 1]"
   ]
  },
  {
   "cell_type": "markdown",
   "metadata": {},
   "source": [
    "# DeepLP"
   ]
  },
  {
   "cell_type": "code",
   "execution_count": 148,
   "metadata": {
    "collapsed": true
   },
   "outputs": [],
   "source": [
    "true_labels = np.hstack((Ly,Uy_sol))\n",
    "num_features = features.shape[1]\n",
    "num_labeled = len(Ly)\n",
    "num_unlabeled = len(Uy)\n",
    "num_nodes = num_labeled+num_unlabeled"
   ]
  },
  {
   "cell_type": "code",
   "execution_count": null,
   "metadata": {
    "collapsed": false
   },
   "outputs": [],
   "source": [
    "# prepare features for NN\n",
    "LY = np.tile(Ly,(Ly.shape[0],1))\n",
    "np.fill_diagonal(LY, 0.5)\n",
    "UY = np.tile(Uy,(Ly.shape[0],1))\n",
    "\n",
    "masked_ = np.hstack((np.identity(LY.shape[0]),np.zeros((Ly.shape[0],Uy.shape[0]))))\n",
    "true_labeled = np.array([1] * LY.shape[0] + [0] * Uy.shape[0]).reshape(1,num_nodes)"
   ]
  },
  {
   "cell_type": "code",
   "execution_count": null,
   "metadata": {
    "collapsed": true
   },
   "outputs": [],
   "source": [
    "unlabeled_test = np.hstack((np.zeros(LY.shape[0]),np.ones((Uy.shape[0])))).reshape(1,num_nodes)\n",
    "test_data = {\n",
    "    'X': np.hstack((Ly,Uy)).reshape(1,num_nodes),\n",
    "    'y': np.tile(true_labels,(Ly.shape[0],1))[1:2],\n",
    "    'unlabeled': unlabeled_test,\n",
    "    'labeled': (1 - unlabeled_test).reshape(1,num_nodes),\n",
    "    'true_labeled': true_labeled,\n",
    "    'masked':masked_[0:1]\n",
    "}"
   ]
  },
  {
   "cell_type": "code",
   "execution_count": null,
   "metadata": {
    "collapsed": true
   },
   "outputs": [],
   "source": [
    "unlabeled_ = np.hstack((np.identity(LY.shape[0]),np.ones((Ly.shape[0],Uy.shape[0]))))\n",
    "data = {\n",
    "    'X':np.hstack((LY, UY)),\n",
    "    'y':np.reshape(true_labels,(1,len(true_labels))),\n",
    "    'unlabeled':unlabeled_,\n",
    "    'labeled':1-unlabeled_,\n",
    "    'true_labeled': true_labeled,\n",
    "    'masked':masked_\n",
    "}"
   ]
  },
  {
   "cell_type": "code",
   "execution_count": null,
   "metadata": {
    "collapsed": false
   },
   "outputs": [],
   "source": [
    "dlp = DeepLP(40, num_nodes, weights, 1)"
   ]
  },
  {
   "cell_type": "code",
   "execution_count": null,
   "metadata": {
    "collapsed": false
   },
   "outputs": [],
   "source": [
    "pred_dlp = dlp.labelprop(test_data)\n",
    "Uy_dlp = np.rint(pred_dlp[:,num_labeled:]).reshape(num_unlabeled)"
   ]
  },
  {
   "cell_type": "code",
   "execution_count": null,
   "metadata": {
    "collapsed": false
   },
   "outputs": [],
   "source": [
    "print(\"Accuracy:\", accuracy(Uy_sol,Uy_dlp))\n",
    "print(\"RMSE:\", rmse(Uy_sol,Uy_dlp))\n",
    "print(\"Objective:\", objective(Ly,Uy_dlp,dlp.get_val(dlp.W)))"
   ]
  },
  {
   "cell_type": "markdown",
   "metadata": {},
   "source": [
    "# DeepLP_RBF"
   ]
  },
  {
   "cell_type": "code",
   "execution_count": null,
   "metadata": {
    "collapsed": false
   },
   "outputs": [],
   "source": [
    "dlp_rbf = DeepLP_RBF(40, num_nodes, features, graph, 1, 0.01)"
   ]
  },
  {
   "cell_type": "code",
   "execution_count": null,
   "metadata": {
    "collapsed": true
   },
   "outputs": [],
   "source": [
    "pred_dlp_rbf = dlp_rbf.labelprop(test_data)\n",
    "Uy_dlp_rbf = np.rint(pred_dlp_rbf[:,num_labeled:]).reshape(num_unlabeled)"
   ]
  },
  {
   "cell_type": "code",
   "execution_count": null,
   "metadata": {
    "collapsed": false
   },
   "outputs": [],
   "source": [
    "print(\"Accuracy:\", accuracy(Uy_sol,Uy_dlp_rbf))\n",
    "print(\"RMSE:\", rmse(Uy_sol,Uy_dlp_rbf))\n",
    "print(\"Objective:\", objective(Ly,Uy_dlp_rbf,dlp_rbf.get_val(dlp_rbf.W)))"
   ]
  },
  {
   "cell_type": "code",
   "execution_count": 19,
   "metadata": {
    "collapsed": false
   },
   "outputs": [
    {
     "data": {
      "text/plain": [
       "array([  0.,   1.,   0., ...,   1.,   2.,  12.], dtype=float32)"
      ]
     },
     "execution_count": 19,
     "metadata": {},
     "output_type": "execute_result"
    }
   ],
   "source": [
    "Uy_dlp_rbf"
   ]
  },
  {
   "cell_type": "code",
   "execution_count": 20,
   "metadata": {
    "collapsed": false
   },
   "outputs": [
    {
     "data": {
      "text/plain": [
       "array([[ 0.,  0.,  0., ...,  0.,  0.,  0.],\n",
       "       [ 0.,  0.,  0., ...,  0.,  0.,  0.],\n",
       "       [ 0.,  0.,  0., ...,  0.,  0.,  0.],\n",
       "       ..., \n",
       "       [ 0.,  0.,  0., ...,  0.,  0.,  0.],\n",
       "       [ 0.,  0.,  0., ...,  0.,  0.,  0.],\n",
       "       [ 0.,  0.,  0., ...,  0.,  0.,  0.]])"
      ]
     },
     "execution_count": 20,
     "metadata": {},
     "output_type": "execute_result"
    }
   ],
   "source": [
    "graph"
   ]
  },
  {
   "cell_type": "code",
   "execution_count": 91,
   "metadata": {
    "collapsed": false
   },
   "outputs": [
    {
     "data": {
      "text/plain": [
       "(array([[ 0.,  0.,  0., ...,  0.,  0.,  0.],\n",
       "        [ 0.,  0.,  0., ...,  0.,  0.,  0.],\n",
       "        [ 0.,  0.,  0., ...,  0.,  0.,  0.],\n",
       "        ..., \n",
       "        [ 0.,  0.,  0., ...,  0.,  0.,  0.],\n",
       "        [ 0.,  0.,  0., ...,  0.,  0.,  0.],\n",
       "        [ 0.,  0.,  0., ...,  0.,  0.,  0.]], dtype=float32),\n",
       " array([[ 0.        ,  0.13533528,  0.00247875, ...,  0.04978707,\n",
       "          0.04978707,  0.00673795],\n",
       "        [ 0.13533528,  0.        ,  0.        , ...,  0.36787945,\n",
       "          0.00673795,  0.        ],\n",
       "        [ 0.00247875,  0.        ,  0.        , ...,  0.        ,\n",
       "          0.        ,  0.00673795],\n",
       "        ..., \n",
       "        [ 0.04978707,  0.36787945,  0.        , ...,  0.        ,\n",
       "          0.01831564,  0.00247875],\n",
       "        [ 0.04978707,  0.00673795,  0.        , ...,  0.01831564,\n",
       "          0.        ,  0.01831564],\n",
       "        [ 0.00673795,  0.        ,  0.00673795, ...,  0.00247875,\n",
       "          0.01831564,  0.        ]], dtype=float32))"
      ]
     },
     "execution_count": 91,
     "metadata": {},
     "output_type": "execute_result"
    }
   ],
   "source": [
    "dlp_rbf.get_val(dlp_rbf.W),dlp.get_val(dlp.W)"
   ]
  },
  {
   "cell_type": "code",
   "execution_count": null,
   "metadata": {
    "collapsed": true
   },
   "outputs": [],
   "source": []
  }
 ],
 "metadata": {
  "kernelspec": {
   "display_name": "ml",
   "language": "python",
   "name": "ml"
  },
  "language_info": {
   "codemirror_mode": {
    "name": "ipython",
    "version": 3
   },
   "file_extension": ".py",
   "mimetype": "text/x-python",
   "name": "python",
   "nbconvert_exporter": "python",
   "pygments_lexer": "ipython3",
   "version": "3.6.2"
  }
 },
 "nbformat": 4,
 "nbformat_minor": 0
}
