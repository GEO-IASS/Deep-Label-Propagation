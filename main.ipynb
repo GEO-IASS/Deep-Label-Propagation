{
 "cells": [
  {
   "cell_type": "code",
   "execution_count": 1,
   "metadata": {
    "collapsed": false
   },
   "outputs": [],
   "source": [
    "from __future__ import print_function\n",
    "import numpy as np\n",
    "import tensorflow as tf\n",
    "import matplotlib.pyplot as plt\n",
    "from LP import LP\n",
    "from DeepLP import DeepLP\n",
    "from DeepLP_RBF import DeepLP_RBF\n",
    "from DeepLP_WeightedRBF import DeepLP_WeightedRBF\n",
    "from DeepLP_WeightedRBF_t import DeepLP_WeightedRBF_t\n",
    "\n",
    "from utils import *"
   ]
  },
  {
   "cell_type": "markdown",
   "metadata": {},
   "source": [
    "# Data Preparation"
   ]
  },
  {
   "cell_type": "code",
   "execution_count": 2,
   "metadata": {
    "collapsed": false
   },
   "outputs": [],
   "source": [
    "# get labels, features and weights\n",
    "LX, Ly, UX, Uy, Uy_sol = get_iris_data()\n",
    "features = np.vstack((LX,UX))\n",
    "true_labels = np.hstack((Ly,Uy_sol))\n",
    "weights = rbf_kernel(features)\n",
    "num_features = features.shape[1]\n",
    "num_labeled = len(Ly)\n",
    "num_unlabeled = len(Uy)\n",
    "num_nodes = num_labeled+num_unlabeled\n",
    "graph = (weights > 0).astype(int)"
   ]
  },
  {
   "cell_type": "code",
   "execution_count": 3,
   "metadata": {
    "collapsed": false
   },
   "outputs": [],
   "source": [
    "# prepare features for NN\n",
    "LY = np.tile(Ly,(Ly.shape[0],1))\n",
    "np.fill_diagonal(LY, 0.5)\n",
    "UY = np.tile(Uy,(Ly.shape[0],1))\n",
    "\n",
    "masked_ = np.hstack((np.identity(LY.shape[0]),np.zeros((Ly.shape[0],Uy.shape[0]))))\n",
    "true_labeled = np.array([1] * LY.shape[0] + [0] * Uy.shape[0]).reshape(1,100)"
   ]
  },
  {
   "cell_type": "code",
   "execution_count": 4,
   "metadata": {
    "collapsed": false
   },
   "outputs": [],
   "source": [
    "unlabeled_test = np.hstack((np.zeros(LY.shape[0]),np.ones((Uy.shape[0])))).reshape(1,100)\n",
    "test_data = {\n",
    "    'X': np.hstack((Ly,Uy)).reshape(1,100),\n",
    "    'y': np.tile(true_labels,(Ly.shape[0],1))[1:2],\n",
    "    'unlabeled': unlabeled_test,\n",
    "    'labeled': (1 - unlabeled_test).reshape(1,100),\n",
    "    'true_labeled': true_labeled,\n",
    "    'masked':masked_[0:1]\n",
    "}"
   ]
  },
  {
   "cell_type": "code",
   "execution_count": 5,
   "metadata": {
    "collapsed": false
   },
   "outputs": [],
   "source": [
    "unlabeled_ = np.hstack((np.identity(LY.shape[0]),np.ones((Ly.shape[0],Uy.shape[0]))))\n",
    "data = {\n",
    "    'X':np.hstack((LY, UY)),\n",
    "    'y':np.reshape(true_labels,(1,len(true_labels))),\n",
    "    'unlabeled':unlabeled_,\n",
    "    'labeled':1-unlabeled_,\n",
    "    'true_labeled': true_labeled,\n",
    "    'masked':masked_\n",
    "}"
   ]
  },
  {
   "cell_type": "markdown",
   "metadata": {},
   "source": [
    "# Label Propagation"
   ]
  },
  {
   "cell_type": "code",
   "execution_count": 7,
   "metadata": {
    "collapsed": false
   },
   "outputs": [],
   "source": [
    "lp = LP()\n",
    "Uy_lp = np.rint(lp.closed(features,Ly))\n",
    "Uy_lp_iter = np.rint(lp.iter_(features,Ly,Uy,1000))"
   ]
  },
  {
   "cell_type": "code",
   "execution_count": 8,
   "metadata": {
    "collapsed": false
   },
   "outputs": [
    {
     "name": "stdout",
     "output_type": "stream",
     "text": [
      "[Accuracy] Closed solution: 0.8  Iter Solution: 0.8\n",
      "[RMSE] Closed solution 0.2  Iter solution 0.2\n"
     ]
    }
   ],
   "source": [
    "print(\"[Accuracy] Closed solution:\", accuracy(Uy_sol, Uy_lp), \" Iter Solution:\", accuracy(Uy_sol, Uy_lp_iter))\n",
    "print(\"[RMSE] Closed solution\", rmse(Uy_sol, Uy_lp), \" Iter solution\", rmse(Uy_sol, Uy_lp))"
   ]
  },
  {
   "cell_type": "code",
   "execution_count": 16,
   "metadata": {
    "collapsed": false
   },
   "outputs": [],
   "source": [
    "# for iter_ in [1,2,3,4,5,10,100,1000]:\n",
    "#     print(iter_)\n",
    "#     Uy_lp_iter = np.rint(lp.iter_(features,Ly,Uy,iter_))\n",
    "#     print(\"Objective:\", objective(Ly,np.rint(Uy_lp_iter),weights))\n",
    "#     print(\"Accuracy:\", accuracy(Uy_sol,Uy_lp_iter))\n",
    "#     print(\"RMSE:\", rmse(Uy_sol,Uy_lp_iter))"
   ]
  },
  {
   "cell_type": "markdown",
   "metadata": {},
   "source": [
    "# DeepLP"
   ]
  },
  {
   "cell_type": "code",
   "execution_count": 17,
   "metadata": {
    "collapsed": false
   },
   "outputs": [],
   "source": [
    "sess = tf.Session()\n",
    "dlp = DeepLP(10, num_nodes, weights, 1, sess)"
   ]
  },
  {
   "cell_type": "code",
   "execution_count": 18,
   "metadata": {
    "collapsed": false
   },
   "outputs": [],
   "source": [
    "pred_dlp = dlp.labelprop(test_data)\n",
    "Uy_dlp = np.rint(pred_dlp[:,num_labeled:]).reshape(num_unlabeled)"
   ]
  },
  {
   "cell_type": "code",
   "execution_count": 19,
   "metadata": {
    "collapsed": false
   },
   "outputs": [
    {
     "name": "stdout",
     "output_type": "stream",
     "text": [
      "Accuracy: 0.8\n",
      "RMSE: 0.2\n",
      "Objective: 1271.07189292\n"
     ]
    }
   ],
   "source": [
    "print(\"Accuracy:\", accuracy(Uy_sol,Uy_dlp))\n",
    "print(\"RMSE:\", rmse(Uy_sol,Uy_dlp))\n",
    "print(\"Objective:\", objective(Ly,Uy_dlp,dlp.get_value(dlp.W)))"
   ]
  },
  {
   "cell_type": "markdown",
   "metadata": {},
   "source": [
    "# DeepLP_RBF"
   ]
  },
  {
   "cell_type": "code",
   "execution_count": 9,
   "metadata": {
    "collapsed": false
   },
   "outputs": [],
   "source": [
    "sess = tf.Session()\n",
    "dlp_rbf = DeepLP_RBF(10, num_nodes, features, graph, np.var(features), 0.01, sess)"
   ]
  },
  {
   "cell_type": "code",
   "execution_count": 10,
   "metadata": {
    "collapsed": false
   },
   "outputs": [],
   "source": [
    "pred_dlp_rbf = dlp_rbf.labelprop(test_data)\n",
    "Uy_dlp_rbf = np.rint(pred_dlp_rbf[:,num_labeled:]).reshape(num_unlabeled)"
   ]
  },
  {
   "cell_type": "code",
   "execution_count": 11,
   "metadata": {
    "collapsed": false
   },
   "outputs": [
    {
     "name": "stdout",
     "output_type": "stream",
     "text": [
      "Accuracy: 0.8\n",
      "RMSE: 0.2\n",
      "Objective: 1271.07191023\n"
     ]
    }
   ],
   "source": [
    "print(\"Accuracy:\", accuracy(Uy_sol,Uy_dlp_rbf))\n",
    "print(\"RMSE:\", rmse(Uy_sol,Uy_dlp_rbf))\n",
    "print(\"Objective:\", objective(Ly,Uy_dlp_rbf,dlp_rbf.get_value(dlp_rbf.W)))"
   ]
  },
  {
   "cell_type": "code",
   "execution_count": 12,
   "metadata": {
    "collapsed": false
   },
   "outputs": [
    {
     "name": "stdout",
     "output_type": "stream",
     "text": [
      "epoch: -1 labeled loss: 0.292588 unlabeled loss: 0.228682 accuracy: 0.646 sol unlabeled loss: 0.219812 sol accuracy: 0.8\n",
      "epoch: 0 labeled loss: 0.292166 unlabeled loss: 0.228344 accuracy: 0.652 sol unlabeled loss: 0.219344 sol accuracy: 0.8\n",
      "sigma: 3.46386\n",
      "epoch: 10 labeled loss: 0.286985 unlabeled loss: 0.223562 accuracy: 0.706 sol unlabeled loss: 0.212546 sol accuracy: 0.863158\n",
      "epoch: 20 labeled loss: 0.283887 unlabeled loss: 0.218972 accuracy: 0.742 sol unlabeled loss: 0.204544 sol accuracy: 0.863158\n",
      "epoch: 30 labeled loss: 0.283887 unlabeled loss: 0.218982 accuracy: 0.742 sol unlabeled loss: 0.204568 sol accuracy: 0.863158\n",
      "epoch: 40 labeled loss: 0.283887 unlabeled loss: 0.218963 accuracy: 0.742 sol unlabeled loss: 0.204521 sol accuracy: 0.863158\n",
      "epoch: 50 labeled loss: 0.283887 unlabeled loss: 0.218964 accuracy: 0.742 sol unlabeled loss: 0.204524 sol accuracy: 0.863158\n",
      "epoch: 60 labeled loss: 0.283887 unlabeled loss: 0.218964 accuracy: 0.742 sol unlabeled loss: 0.204524 sol accuracy: 0.863158\n",
      "epoch: 70 labeled loss: 0.283887 unlabeled loss: 0.218964 accuracy: 0.742 sol unlabeled loss: 0.204524 sol accuracy: 0.863158\n",
      "epoch: 80 labeled loss: 0.283887 unlabeled loss: 0.218964 accuracy: 0.742 sol unlabeled loss: 0.204524 sol accuracy: 0.863158\n",
      "epoch: 90 labeled loss: 0.283887 unlabeled loss: 0.218964 accuracy: 0.742 sol unlabeled loss: 0.204524 sol accuracy: 0.863158\n"
     ]
    }
   ],
   "source": [
    "dlp_rbf.train(data,test_data,100)"
   ]
  },
  {
   "cell_type": "code",
   "execution_count": null,
   "metadata": {
    "collapsed": false
   },
   "outputs": [],
   "source": [
    "argmax = np.argmax(dlp_rbf.accuracies)"
   ]
  },
  {
   "cell_type": "code",
   "execution_count": null,
   "metadata": {
    "collapsed": false
   },
   "outputs": [],
   "source": [
    "pred_dlp_rbf = np.rint(dlp_rbf.pred(test_data,dlp_rbf.sigmas[argmax]))\n",
    "Uy_dlp_rbf = np.rint(pred_dlp_rbf[:,num_labeled:]).reshape(num_unlabeled)"
   ]
  },
  {
   "cell_type": "code",
   "execution_count": null,
   "metadata": {
    "collapsed": false
   },
   "outputs": [],
   "source": [
    "print(\"Accuracy:\", accuracy(Uy_sol,Uy_dlp_rbf))\n",
    "print(\"RMSE:\", rmse(Uy_sol,Uy_dlp_rbf))\n",
    "print(\"Objective:\", objective(Ly,Uy_dlp_rbf,dlp_rbf.get_value(dlp_rbf.W)))"
   ]
  },
  {
   "cell_type": "code",
   "execution_count": null,
   "metadata": {
    "collapsed": false
   },
   "outputs": [],
   "source": [
    "plt.plot(dlp_rbf.sigmas)\n",
    "plt.title(\"RBF: sigma\")\n",
    "plt.axvline(x=19)\n",
    "plt.show()"
   ]
  },
  {
   "cell_type": "code",
   "execution_count": null,
   "metadata": {
    "collapsed": false
   },
   "outputs": [],
   "source": [
    "# plt.plot(range(20,100+1),dlp_rbf.sigmas[20:])\n",
    "# plt.title(\"RBF: sigma (iter 20-100)\")\n",
    "# plt.show()"
   ]
  },
  {
   "cell_type": "code",
   "execution_count": null,
   "metadata": {
    "collapsed": false
   },
   "outputs": [],
   "source": [
    "plt.plot(dlp_rbf.labeled_losses,label=\"labeled loss\")\n",
    "plt.plot(dlp_rbf.unlabeled_losses,label=\"unlabeled loss\")\n",
    "plt.plot(dlp_rbf.sol_unlabeled_losses,label='validation unlabeled loss')\n",
    "plt.title(\"RBF: loss\")\n",
    "plt.legend()\n",
    "# plt.axvline(x=19)\n",
    "plt.show()"
   ]
  },
  {
   "cell_type": "code",
   "execution_count": null,
   "metadata": {
    "collapsed": false
   },
   "outputs": [],
   "source": [
    "# plt.plot(range(20,100+1),dlp_rbf.labeled_losses[20:],label=\"labeled loss\")\n",
    "# # plt.plot(dlp_rbf.unlabeled_losses,label=\"unlabeled loss\")\n",
    "# plt.title(\"RBF: labeled loss (iter 20-100)\")\n",
    "# plt.legend()\n",
    "# plt.show()"
   ]
  },
  {
   "cell_type": "code",
   "execution_count": 24,
   "metadata": {
    "collapsed": false
   },
   "outputs": [],
   "source": [
    "# # plt.plot(range(20,100+1),dlp_rbf.labeled_losses[20:],label=\"labeled loss\")\n",
    "# plt.plot(range(20,100+1),dlp_rbf.unlabeled_losses[20:],label=\"unlabeled loss\")\n",
    "# plt.title(\"RBF: unlabeled loss (iter 20-100)\")\n",
    "# plt.legend()\n",
    "# plt.show()"
   ]
  },
  {
   "cell_type": "code",
   "execution_count": 25,
   "metadata": {
    "collapsed": false
   },
   "outputs": [
    {
     "data": {
      "image/png": "[encoded data removed]",
      "text/plain": [
       "<matplotlib.figure.Figure at 0x1250c7da0>"
      ]
     },
     "metadata": {},
     "output_type": "display_data"
    }
   ],
   "source": [
    "plt.plot(dlp_rbf.accuracies,label=\"DeepLP, train\")\n",
    "plt.plot([accuracy(Uy_sol,Uy_dlp)] * len(dlp_rbf.accuracies),label=\"LP\")\n",
    "plt.plot(dlp_rbf.sol_accuracies,label=\"DeepLP, validation\")\n",
    "plt.title(\"RBF: accuracy\")\n",
    "plt.legend()\n",
    "plt.show()"
   ]
  },
  {
   "cell_type": "markdown",
   "metadata": {},
   "source": [
    "# DeepLP_WeightedRBF"
   ]
  },
  {
   "cell_type": "code",
   "execution_count": 88,
   "metadata": {
    "collapsed": true
   },
   "outputs": [],
   "source": [
    "# theta = np.ones(num_features)\n",
    "theta = np.array([ 2.7 ,  1.35,  1.35,  1.8 ])"
   ]
  },
  {
   "cell_type": "code",
   "execution_count": 89,
   "metadata": {
    "collapsed": false
   },
   "outputs": [],
   "source": [
    "sess = tf.Session()\n",
    "dlp_wrbf = DeepLP_WeightedRBF(10, num_nodes, features, graph, np.var(features), theta, 0.01, sess, 0)"
   ]
  },
  {
   "cell_type": "code",
   "execution_count": 90,
   "metadata": {
    "collapsed": false
   },
   "outputs": [],
   "source": [
    "pred_dlp_wrbf = dlp_wrbf.labelprop(test_data)\n",
    "Uy_dlp_wrbf = np.rint(pred_dlp_wrbf[:,num_labeled:]).reshape(num_unlabeled)"
   ]
  },
  {
   "cell_type": "code",
   "execution_count": 91,
   "metadata": {
    "collapsed": false
   },
   "outputs": [
    {
     "name": "stdout",
     "output_type": "stream",
     "text": [
      "Accuracy: 0.936842105263\n",
      "RMSE: 0.0631578947368\n",
      "Objective: 1447.93664666\n"
     ]
    }
   ],
   "source": [
    "print(\"Accuracy:\", accuracy(Uy_sol,Uy_dlp_wrbf))\n",
    "print(\"RMSE:\", rmse(Uy_sol,Uy_dlp_wrbf))\n",
    "print(\"Objective:\", objective(Ly,Uy_dlp_wrbf,dlp_wrbf.get_value(dlp_wrbf.W)))"
   ]
  },
  {
   "cell_type": "code",
   "execution_count": 92,
   "metadata": {
    "collapsed": false
   },
   "outputs": [
    {
     "name": "stdout",
     "output_type": "stream",
     "text": [
      "epoch: -1 labeled loss: 0.307598 unlabeled loss: 0.210996 accuracy: 0.682 sol unlabeled loss: 0.189207 sol accuracy: 0.936842\n",
      "epoch: 0 labeled loss: 0.305709 unlabeled loss: 0.211324 accuracy: 0.68 sol unlabeled loss: 0.19054 sol accuracy: 0.926316\n",
      "theta: [ 2.65003276  1.30004776  1.30171812  1.85021615]\n",
      "epoch: 10 labeled loss: 0.28957 unlabeled loss: 0.215288 accuracy: 0.738 sol unlabeled loss: 0.197348 sol accuracy: 0.894737\n",
      "theta: [ 2.15188026  0.83355421  1.21597433  2.37281704]\n",
      "epoch: 20 labeled loss: 0.275212 unlabeled loss: 0.218901 accuracy: 0.76 sol unlabeled loss: 0.203285 sol accuracy: 0.863158\n",
      "theta: [ 1.66459095  0.47687918  1.05699754  2.92210579]\n",
      "epoch: 30 labeled loss: 0.263045 unlabeled loss: 0.221762 accuracy: 0.724 sol unlabeled loss: 0.207967 sol accuracy: 0.821053\n",
      "theta: [ 1.21641731  0.24279259  0.76468861  3.49617696]\n",
      "epoch: 40 labeled loss: 0.253711 unlabeled loss: 0.223619 accuracy: 0.704 sol unlabeled loss: 0.210592 sol accuracy: 0.778947\n",
      "theta: [ 0.83301818  0.10929322  0.2532222   4.03753042]\n",
      "epoch: 50 labeled loss: 0.249877 unlabeled loss: 0.224485 accuracy: 0.702 sol unlabeled loss: 0.210968 sol accuracy: 0.768421\n",
      "theta: [ 0.52843565  0.04240508 -0.01454207  4.25995731]\n",
      "epoch: 60 labeled loss: 0.248481 unlabeled loss: 0.224769 accuracy: 0.702 sol unlabeled loss: 0.21149 sol accuracy: 0.768421\n",
      "theta: [  3.12090129e-01   1.39581542e-02  -2.50783196e-04   4.26097202e+00]\n",
      "epoch: 70 labeled loss: 0.247959 unlabeled loss: 0.224883 accuracy: 0.696 sol unlabeled loss: 0.211664 sol accuracy: 0.768421\n",
      "theta: [  1.73229069e-01   3.93259153e-03   7.40988035e-05   4.26550817e+00]\n",
      "epoch: 80 labeled loss: 0.24779 unlabeled loss: 0.224919 accuracy: 0.696 sol unlabeled loss: 0.211721 sol accuracy: 0.768421\n",
      "theta: [  9.04791206e-02   9.36585420e-04   4.71811973e-06   4.26667643e+00]\n",
      "epoch: 90 labeled loss: 0.247742 unlabeled loss: 0.22493 accuracy: 0.696 sol unlabeled loss: 0.211737 sol accuracy: 0.768421\n",
      "theta: [  4.44937199e-02   1.85040888e-04   3.33386154e-08   4.26702881e+00]\n",
      "epoch: 100 labeled loss: 0.24773 unlabeled loss: 0.224932 accuracy: 0.696 sol unlabeled loss: 0.211742 sol accuracy: 0.768421\n",
      "theta: [  2.05944981e-02   2.94333349e-05  -1.59368554e-08   4.26711559e+00]\n",
      "epoch: 110 labeled loss: 0.247727 unlabeled loss: 0.224933 accuracy: 0.696 sol unlabeled loss: 0.211742 sol accuracy: 0.768421\n",
      "theta: [  8.96433555e-03   3.57567205e-06  -1.82043092e-09   4.26713276e+00]\n",
      "epoch: 120 labeled loss: 0.247726 unlabeled loss: 0.224933 accuracy: 0.696 sol unlabeled loss: 0.211743 sol accuracy: 0.768421\n",
      "theta: [  3.66437063e-03   2.95758156e-07  -1.48149687e-10   4.26713514e+00]\n",
      "epoch: 130 labeled loss: 0.247726 unlabeled loss: 0.224933 accuracy: 0.696 sol unlabeled loss: 0.211743 sol accuracy: 0.768421\n",
      "theta: [  1.40410417e-03   1.07943920e-08  -1.06412604e-11   4.26713753e+00]\n",
      "epoch: 140 labeled loss: 0.247726 unlabeled loss: 0.224933 accuracy: 0.696 sol unlabeled loss: 0.211743 sol accuracy: 0.768421\n",
      "theta: [  5.03185380e-04  -7.05822067e-10  -6.66617152e-13   4.26713753e+00]\n",
      "epoch: 150 labeled loss: 0.247726 unlabeled loss: 0.224933 accuracy: 0.696 sol unlabeled loss: 0.211743 sol accuracy: 0.768421\n",
      "theta: [  1.68185172e-04  -8.94945854e-11  -2.83453308e-14   4.26713753e+00]\n",
      "epoch: 160 labeled loss: 0.247726 unlabeled loss: 0.224933 accuracy: 0.696 sol unlabeled loss: 0.211743 sol accuracy: 0.768421\n",
      "theta: [  5.22563168e-05   9.71149810e-13   5.67705781e-16   4.26713753e+00]\n",
      "epoch: 170 labeled loss: 0.247726 unlabeled loss: 0.224933 accuracy: 0.696 sol unlabeled loss: 0.211743 sol accuracy: 0.768421\n",
      "theta: [  1.50335536e-05   4.53640001e-13   2.59261539e-16   4.26713753e+00]\n",
      "epoch: 180 labeled loss: 0.247726 unlabeled loss: 0.224933 accuracy: 0.696 sol unlabeled loss: 0.211743 sol accuracy: 0.768421\n",
      "theta: [  3.98557586e-06  -9.08937334e-15   2.33801574e-17   4.26713753e+00]\n",
      "epoch: 190 labeled loss: 0.247726 unlabeled loss: 0.224933 accuracy: 0.696 sol unlabeled loss: 0.211743 sol accuracy: 0.768421\n",
      "theta: [  9.68102313e-07  -1.99182699e-15   3.41142364e-19   4.26713753e+00]\n"
     ]
    }
   ],
   "source": [
    "dlp_wrbf.train(data,test_data,200)"
   ]
  },
  {
   "cell_type": "code",
   "execution_count": 93,
   "metadata": {
    "collapsed": false
   },
   "outputs": [],
   "source": [
    "argmax = np.argmax(dlp_wrbf.accuracies)"
   ]
  },
  {
   "cell_type": "code",
   "execution_count": 94,
   "metadata": {
    "collapsed": false
   },
   "outputs": [
    {
     "data": {
      "text/plain": [
       "18"
      ]
     },
     "execution_count": 94,
     "metadata": {},
     "output_type": "execute_result"
    }
   ],
   "source": [
    "argmax"
   ]
  },
  {
   "cell_type": "code",
   "execution_count": 98,
   "metadata": {
    "collapsed": false
   },
   "outputs": [
    {
     "data": {
      "image/png": "[encoded data removed]",
      "text/plain": [
       "<matplotlib.figure.Figure at 0x150b78208>"
      ]
     },
     "metadata": {},
     "output_type": "display_data"
    }
   ],
   "source": [
    "plt.plot(dlp_wrbf.thetas)\n",
    "plt.title(\"WRBF: theta, lambda=0\")\n",
    "# plt.axvline(x=argmax)\n",
    "# plt.axvline(x=33)\n",
    "plt.show()"
   ]
  },
  {
   "cell_type": "code",
   "execution_count": 99,
   "metadata": {
    "collapsed": false
   },
   "outputs": [
    {
     "data": {
      "image/png": "[encoded data removed]",
      "text/plain": [
       "<matplotlib.figure.Figure at 0x1517b08d0>"
      ]
     },
     "metadata": {},
     "output_type": "display_data"
    }
   ],
   "source": [
    "plt.plot(dlp_wrbf.labeled_losses,label='labeled loss')\n",
    "plt.plot(dlp_wrbf.unlabeled_losses,label='unlabeled loss')\n",
    "plt.plot(dlp_wrbf.sol_unlabeled_losses,label='validation unlabeled loss')\n",
    "plt.title(\"WRBF: loss, lambda=0\")\n",
    "# plt.axvline(x=argmax)\n",
    "# plt.axvline(x=33)\n",
    "plt.legend()\n",
    "plt.show()"
   ]
  },
  {
   "cell_type": "code",
   "execution_count": 100,
   "metadata": {
    "collapsed": false
   },
   "outputs": [
    {
     "data": {
      "image/png": "[encoded data removed]",
      "text/plain": [
       "<matplotlib.figure.Figure at 0x15181d358>"
      ]
     },
     "metadata": {},
     "output_type": "display_data"
    }
   ],
   "source": [
    "plt.plot(dlp_wrbf.accuracies,label='WRBF')\n",
    "plt.plot(dlp_wrbf.sol_accuracies,label='WRBF validation')\n",
    "plt.plot([accuracy(Uy_sol,Uy_dlp)] * len(dlp_wrbf.accuracies),label=\"LP\")\n",
    "plt.title(\"WRBF: accuracy, lambda=0\")\n",
    "plt.legend()\n",
    "# plt.axvline(x=argmax)\n",
    "# plt.axvline(x=33)\n",
    "plt.show()"
   ]
  },
  {
   "cell_type": "code",
   "execution_count": 32,
   "metadata": {
    "collapsed": false
   },
   "outputs": [],
   "source": [
    "# accuracies = []\n",
    "# rmses = []\n",
    "# objectives = []\n",
    "# for sigma_ in sorted(sigmas):\n",
    "#     sess = tf.Session()\n",
    "#     dlp_rbf = DeepLP_RBF(10, num_nodes, features, graph, sigma_, 0.1, sess)\n",
    "#     pred_dlp_rbf = dlp_rbf.labelprop(test_data)\n",
    "#     Uy_dlp_rbf = np.rint(pred_dlp_rbf[:,num_labeled:]).reshape(num_unlabeled)\n",
    "#     print(\"Accuracy:\", accuracy(Uy_sol,Uy_dlp_rbf))\n",
    "#     print(\"RMSE:\", rmse(Uy_sol,Uy_dlp_rbf))\n",
    "#     print(\"Objective:\", objective(Ly,Uy_dlp_rbf,dlp_rbf.get_value(dlp_rbf.W)))\n",
    "    \n",
    "#     accuracies.append(accuracy)\n",
    "#     rmses.append(rmse)\n",
    "#     objectives.append(objective)\n",
    "#     sess.close()\n"
   ]
  },
  {
   "cell_type": "code",
   "execution_count": 38,
   "metadata": {
    "collapsed": false
   },
   "outputs": [],
   "source": [
    "from sklearn.utils.extmath import cartesian\n",
    "l = np.arange(0,4.5,0.1)\n",
    "l4 = [l for i in range(4)]\n",
    "thetas = cartesian(l4)"
   ]
  },
  {
   "cell_type": "code",
   "execution_count": 39,
   "metadata": {
    "collapsed": true
   },
   "outputs": [],
   "source": [
    "sess = tf.Session()"
   ]
  },
  {
   "cell_type": "code",
   "execution_count": 50,
   "metadata": {
    "collapsed": false
   },
   "outputs": [],
   "source": [
    "accuracies = []\n",
    "rmses = []\n",
    "objectives = []\n",
    "dlp_wrbf = DeepLP_WeightedRBF_t(10, num_nodes, features, graph, np.var(features), 'a', 0.01, sess)"
   ]
  },
  {
   "cell_type": "code",
   "execution_count": 51,
   "metadata": {
    "collapsed": false
   },
   "outputs": [
    {
     "name": "stdout",
     "output_type": "stream",
     "text": [
      "0\n",
      "1\n",
      "2\n",
      "3\n",
      "4\n",
      "5\n",
      "6\n",
      "7\n",
      "8\n",
      "9\n",
      "10\n",
      "11\n",
      "12\n",
      "13\n",
      "14\n",
      "15\n",
      "16\n",
      "17\n"
     ]
    },
    {
     "ename": "KeyboardInterrupt",
     "evalue": "",
     "output_type": "error",
     "traceback": [
      "\u001b[0;31m---------------------------------------------------------------------------\u001b[0m",
      "\u001b[0;31mKeyboardInterrupt\u001b[0m                         Traceback (most recent call last)",
      "\u001b[0;32m<ipython-input-51-9ae241b607da>\u001b[0m in \u001b[0;36m<module>\u001b[0;34m()\u001b[0m\n\u001b[1;32m      7\u001b[0m     \u001b[0msess\u001b[0m \u001b[0;34m=\u001b[0m \u001b[0mtf\u001b[0m\u001b[0;34m.\u001b[0m\u001b[0mSession\u001b[0m\u001b[0;34m(\u001b[0m\u001b[0;34m)\u001b[0m\u001b[0;34m\u001b[0m\u001b[0m\n\u001b[1;32m      8\u001b[0m \u001b[0;34m\u001b[0m\u001b[0m\n\u001b[0;32m----> 9\u001b[0;31m     \u001b[0mpred_dlp_wrbf\u001b[0m \u001b[0;34m=\u001b[0m \u001b[0mdlp_wrbf\u001b[0m\u001b[0;34m.\u001b[0m\u001b[0mlabelprop\u001b[0m\u001b[0;34m(\u001b[0m\u001b[0mtest_data\u001b[0m\u001b[0;34m)\u001b[0m\u001b[0;34m\u001b[0m\u001b[0m\n\u001b[0m\u001b[1;32m     10\u001b[0m     \u001b[0mUy_dlp_wrbf\u001b[0m \u001b[0;34m=\u001b[0m \u001b[0mnp\u001b[0m\u001b[0;34m.\u001b[0m\u001b[0mrint\u001b[0m\u001b[0;34m(\u001b[0m\u001b[0mpred_dlp_wrbf\u001b[0m\u001b[0;34m[\u001b[0m\u001b[0;34m:\u001b[0m\u001b[0;34m,\u001b[0m\u001b[0mnum_labeled\u001b[0m\u001b[0;34m:\u001b[0m\u001b[0;34m]\u001b[0m\u001b[0;34m)\u001b[0m\u001b[0;34m.\u001b[0m\u001b[0mreshape\u001b[0m\u001b[0;34m(\u001b[0m\u001b[0mnum_unlabeled\u001b[0m\u001b[0;34m)\u001b[0m\u001b[0;34m\u001b[0m\u001b[0m\n\u001b[1;32m     11\u001b[0m     \u001b[0maccuracies\u001b[0m\u001b[0;34m.\u001b[0m\u001b[0mappend\u001b[0m\u001b[0;34m(\u001b[0m\u001b[0maccuracy\u001b[0m\u001b[0;34m(\u001b[0m\u001b[0mUy_sol\u001b[0m\u001b[0;34m,\u001b[0m\u001b[0mUy_dlp_wrbf\u001b[0m\u001b[0;34m)\u001b[0m\u001b[0;34m)\u001b[0m\u001b[0;34m\u001b[0m\u001b[0m\n",
      "\u001b[0;32m~/projects/graph_based_semi_supervised_learning/DeepLP.py\u001b[0m in \u001b[0;36mlabelprop\u001b[0;34m(self, data)\u001b[0m\n\u001b[1;32m     66\u001b[0m     \u001b[0;32mdef\u001b[0m \u001b[0mlabelprop\u001b[0m\u001b[0;34m(\u001b[0m\u001b[0mself\u001b[0m\u001b[0;34m,\u001b[0m\u001b[0mdata\u001b[0m\u001b[0;34m)\u001b[0m\u001b[0;34m:\u001b[0m\u001b[0;34m\u001b[0m\u001b[0m\n\u001b[1;32m     67\u001b[0m         \u001b[0minit\u001b[0m \u001b[0;34m=\u001b[0m \u001b[0mtf\u001b[0m\u001b[0;34m.\u001b[0m\u001b[0mglobal_variables_initializer\u001b[0m\u001b[0;34m(\u001b[0m\u001b[0;34m)\u001b[0m\u001b[0;34m\u001b[0m\u001b[0m\n\u001b[0;32m---> 68\u001b[0;31m         \u001b[0mself\u001b[0m\u001b[0;34m.\u001b[0m\u001b[0msess\u001b[0m\u001b[0;34m.\u001b[0m\u001b[0mrun\u001b[0m\u001b[0;34m(\u001b[0m\u001b[0minit\u001b[0m\u001b[0;34m)\u001b[0m\u001b[0;34m\u001b[0m\u001b[0m\n\u001b[0m\u001b[1;32m     69\u001b[0m \u001b[0;34m\u001b[0m\u001b[0m\n\u001b[1;32m     70\u001b[0m         \u001b[0mpred\u001b[0m \u001b[0;34m=\u001b[0m \u001b[0mself\u001b[0m\u001b[0;34m.\u001b[0m\u001b[0meval\u001b[0m\u001b[0;34m(\u001b[0m\u001b[0mself\u001b[0m\u001b[0;34m.\u001b[0m\u001b[0myhat\u001b[0m\u001b[0;34m,\u001b[0m\u001b[0mdata\u001b[0m\u001b[0;34m)\u001b[0m\u001b[0;34m\u001b[0m\u001b[0m\n",
      "\u001b[0;32m~/anaconda/envs/ml/lib/python3.6/site-packages/tensorflow/python/client/session.py\u001b[0m in \u001b[0;36mrun\u001b[0;34m(self, fetches, feed_dict, options, run_metadata)\u001b[0m\n\u001b[1;32m    776\u001b[0m     \u001b[0;32mtry\u001b[0m\u001b[0;34m:\u001b[0m\u001b[0;34m\u001b[0m\u001b[0m\n\u001b[1;32m    777\u001b[0m       result = self._run(None, fetches, feed_dict, options_ptr,\n\u001b[0;32m--> 778\u001b[0;31m                          run_metadata_ptr)\n\u001b[0m\u001b[1;32m    779\u001b[0m       \u001b[0;32mif\u001b[0m \u001b[0mrun_metadata\u001b[0m\u001b[0;34m:\u001b[0m\u001b[0;34m\u001b[0m\u001b[0m\n\u001b[1;32m    780\u001b[0m         \u001b[0mproto_data\u001b[0m \u001b[0;34m=\u001b[0m \u001b[0mtf_session\u001b[0m\u001b[0;34m.\u001b[0m\u001b[0mTF_GetBuffer\u001b[0m\u001b[0;34m(\u001b[0m\u001b[0mrun_metadata_ptr\u001b[0m\u001b[0;34m)\u001b[0m\u001b[0;34m\u001b[0m\u001b[0m\n",
      "\u001b[0;32m~/anaconda/envs/ml/lib/python3.6/site-packages/tensorflow/python/client/session.py\u001b[0m in \u001b[0;36m_run\u001b[0;34m(self, handle, fetches, feed_dict, options, run_metadata)\u001b[0m\n\u001b[1;32m    980\u001b[0m     \u001b[0;32mif\u001b[0m \u001b[0mfinal_fetches\u001b[0m \u001b[0;32mor\u001b[0m \u001b[0mfinal_targets\u001b[0m\u001b[0;34m:\u001b[0m\u001b[0;34m\u001b[0m\u001b[0m\n\u001b[1;32m    981\u001b[0m       results = self._do_run(handle, final_targets, final_fetches,\n\u001b[0;32m--> 982\u001b[0;31m                              feed_dict_string, options, run_metadata)\n\u001b[0m\u001b[1;32m    983\u001b[0m     \u001b[0;32melse\u001b[0m\u001b[0;34m:\u001b[0m\u001b[0;34m\u001b[0m\u001b[0m\n\u001b[1;32m    984\u001b[0m       \u001b[0mresults\u001b[0m \u001b[0;34m=\u001b[0m \u001b[0;34m[\u001b[0m\u001b[0;34m]\u001b[0m\u001b[0;34m\u001b[0m\u001b[0m\n",
      "\u001b[0;32m~/anaconda/envs/ml/lib/python3.6/site-packages/tensorflow/python/client/session.py\u001b[0m in \u001b[0;36m_do_run\u001b[0;34m(self, handle, target_list, fetch_list, feed_dict, options, run_metadata)\u001b[0m\n\u001b[1;32m   1030\u001b[0m     \u001b[0;32mif\u001b[0m \u001b[0mhandle\u001b[0m \u001b[0;32mis\u001b[0m \u001b[0;32mNone\u001b[0m\u001b[0;34m:\u001b[0m\u001b[0;34m\u001b[0m\u001b[0m\n\u001b[1;32m   1031\u001b[0m       return self._do_call(_run_fn, self._session, feed_dict, fetch_list,\n\u001b[0;32m-> 1032\u001b[0;31m                            target_list, options, run_metadata)\n\u001b[0m\u001b[1;32m   1033\u001b[0m     \u001b[0;32melse\u001b[0m\u001b[0;34m:\u001b[0m\u001b[0;34m\u001b[0m\u001b[0m\n\u001b[1;32m   1034\u001b[0m       return self._do_call(_prun_fn, self._session, handle, feed_dict,\n",
      "\u001b[0;32m~/anaconda/envs/ml/lib/python3.6/site-packages/tensorflow/python/client/session.py\u001b[0m in \u001b[0;36m_do_call\u001b[0;34m(self, fn, *args)\u001b[0m\n\u001b[1;32m   1037\u001b[0m   \u001b[0;32mdef\u001b[0m \u001b[0m_do_call\u001b[0m\u001b[0;34m(\u001b[0m\u001b[0mself\u001b[0m\u001b[0;34m,\u001b[0m \u001b[0mfn\u001b[0m\u001b[0;34m,\u001b[0m \u001b[0;34m*\u001b[0m\u001b[0margs\u001b[0m\u001b[0;34m)\u001b[0m\u001b[0;34m:\u001b[0m\u001b[0;34m\u001b[0m\u001b[0m\n\u001b[1;32m   1038\u001b[0m     \u001b[0;32mtry\u001b[0m\u001b[0;34m:\u001b[0m\u001b[0;34m\u001b[0m\u001b[0m\n\u001b[0;32m-> 1039\u001b[0;31m       \u001b[0;32mreturn\u001b[0m \u001b[0mfn\u001b[0m\u001b[0;34m(\u001b[0m\u001b[0;34m*\u001b[0m\u001b[0margs\u001b[0m\u001b[0;34m)\u001b[0m\u001b[0;34m\u001b[0m\u001b[0m\n\u001b[0m\u001b[1;32m   1040\u001b[0m     \u001b[0;32mexcept\u001b[0m \u001b[0merrors\u001b[0m\u001b[0;34m.\u001b[0m\u001b[0mOpError\u001b[0m \u001b[0;32mas\u001b[0m \u001b[0me\u001b[0m\u001b[0;34m:\u001b[0m\u001b[0;34m\u001b[0m\u001b[0m\n\u001b[1;32m   1041\u001b[0m       \u001b[0mmessage\u001b[0m \u001b[0;34m=\u001b[0m \u001b[0mcompat\u001b[0m\u001b[0;34m.\u001b[0m\u001b[0mas_text\u001b[0m\u001b[0;34m(\u001b[0m\u001b[0me\u001b[0m\u001b[0;34m.\u001b[0m\u001b[0mmessage\u001b[0m\u001b[0;34m)\u001b[0m\u001b[0;34m\u001b[0m\u001b[0m\n",
      "\u001b[0;32m~/anaconda/envs/ml/lib/python3.6/site-packages/tensorflow/python/client/session.py\u001b[0m in \u001b[0;36m_run_fn\u001b[0;34m(session, feed_dict, fetch_list, target_list, options, run_metadata)\u001b[0m\n\u001b[1;32m   1015\u001b[0m                 run_metadata):\n\u001b[1;32m   1016\u001b[0m       \u001b[0;31m# Ensure any changes to the graph are reflected in the runtime.\u001b[0m\u001b[0;34m\u001b[0m\u001b[0;34m\u001b[0m\u001b[0m\n\u001b[0;32m-> 1017\u001b[0;31m       \u001b[0mself\u001b[0m\u001b[0;34m.\u001b[0m\u001b[0m_extend_graph\u001b[0m\u001b[0;34m(\u001b[0m\u001b[0;34m)\u001b[0m\u001b[0;34m\u001b[0m\u001b[0m\n\u001b[0m\u001b[1;32m   1018\u001b[0m       \u001b[0;32mwith\u001b[0m \u001b[0merrors\u001b[0m\u001b[0;34m.\u001b[0m\u001b[0mraise_exception_on_not_ok_status\u001b[0m\u001b[0;34m(\u001b[0m\u001b[0;34m)\u001b[0m \u001b[0;32mas\u001b[0m \u001b[0mstatus\u001b[0m\u001b[0;34m:\u001b[0m\u001b[0;34m\u001b[0m\u001b[0m\n\u001b[1;32m   1019\u001b[0m         return tf_session.TF_Run(session, options,\n",
      "\u001b[0;32m~/anaconda/envs/ml/lib/python3.6/site-packages/tensorflow/python/client/session.py\u001b[0m in \u001b[0;36m_extend_graph\u001b[0;34m(self)\u001b[0m\n\u001b[1;32m   1064\u001b[0m         \u001b[0;32mwith\u001b[0m \u001b[0merrors\u001b[0m\u001b[0;34m.\u001b[0m\u001b[0mraise_exception_on_not_ok_status\u001b[0m\u001b[0;34m(\u001b[0m\u001b[0;34m)\u001b[0m \u001b[0;32mas\u001b[0m \u001b[0mstatus\u001b[0m\u001b[0;34m:\u001b[0m\u001b[0;34m\u001b[0m\u001b[0m\n\u001b[1;32m   1065\u001b[0m           tf_session.TF_ExtendGraph(\n\u001b[0;32m-> 1066\u001b[0;31m               self._session, graph_def.SerializeToString(), status)\n\u001b[0m\u001b[1;32m   1067\u001b[0m         \u001b[0mself\u001b[0m\u001b[0;34m.\u001b[0m\u001b[0m_opened\u001b[0m \u001b[0;34m=\u001b[0m \u001b[0;32mTrue\u001b[0m\u001b[0;34m\u001b[0m\u001b[0m\n\u001b[1;32m   1068\u001b[0m \u001b[0;34m\u001b[0m\u001b[0m\n",
      "\u001b[0;31mKeyboardInterrupt\u001b[0m: "
     ]
    }
   ],
   "source": [
    "\n",
    "for i,theta_ in enumerate(thetas): \n",
    "#     print(theta_)\n",
    "    if i % 1 == 0:\n",
    "        print(i)\n",
    "    test_data['theta'] = theta_.reshape(1,4)\n",
    "    sess = tf.Session()\n",
    "    \n",
    "    pred_dlp_wrbf = dlp_wrbf.labelprop(test_data)\n",
    "    Uy_dlp_wrbf = np.rint(pred_dlp_wrbf[:,num_labeled:]).reshape(num_unlabeled)\n",
    "    accuracies.append(accuracy(Uy_sol,Uy_dlp_wrbf))\n",
    "    rmses.append(rmse(Uy_sol,Uy_dlp_wrbf))\n",
    "#     print(\"Accuracy:\", accuracies[-1])\n",
    "#     print(\"RMSE:\", rmses[-1])"
   ]
  },
  {
   "cell_type": "code",
   "execution_count": 27,
   "metadata": {
    "collapsed": false
   },
   "outputs": [
    {
     "data": {
      "text/plain": [
       "6334"
      ]
     },
     "execution_count": 27,
     "metadata": {},
     "output_type": "execute_result"
    }
   ],
   "source": [
    "np.argmax(accuracies)"
   ]
  },
  {
   "cell_type": "code",
   "execution_count": 28,
   "metadata": {
    "collapsed": false
   },
   "outputs": [
    {
     "data": {
      "text/plain": [
       "array([ 2.7 ,  1.35,  1.35,  1.8 ])"
      ]
     },
     "execution_count": 28,
     "metadata": {},
     "output_type": "execute_result"
    }
   ],
   "source": [
    "thetas[6334]"
   ]
  },
  {
   "cell_type": "code",
   "execution_count": 29,
   "metadata": {
    "collapsed": true
   },
   "outputs": [],
   "source": [
    "np.savetxt('thetas.csv',thetas,delimiter=',')"
   ]
  },
  {
   "cell_type": "code",
   "execution_count": 31,
   "metadata": {
    "collapsed": true
   },
   "outputs": [],
   "source": [
    "np.savetxt('accuracies.csv',accuracies,delimiter=',')"
   ]
  },
  {
   "cell_type": "code",
   "execution_count": 33,
   "metadata": {
    "collapsed": true
   },
   "outputs": [],
   "source": [
    "np.savetxt('rmses.csv',rmses,delimiter=',')"
   ]
  },
  {
   "cell_type": "code",
   "execution_count": 53,
   "metadata": {
    "collapsed": true
   },
   "outputs": [],
   "source": [
    "accuracies = np.loadtxt('accuracies.csv',delimiter=',')"
   ]
  },
  {
   "cell_type": "code",
   "execution_count": 54,
   "metadata": {
    "collapsed": true
   },
   "outputs": [],
   "source": [
    "thetas = np.loadtxt('thetas.csv',delimiter=',')"
   ]
  },
  {
   "cell_type": "code",
   "execution_count": 107,
   "metadata": {
    "collapsed": false
   },
   "outputs": [],
   "source": [
    "opt = [rmse for theta,acc,rmse in zip(thetas,accuracies,rmses) if theta[0]==0.9 and theta[1]==0.9 and theta[2]==1.35 and theta[3]==0.9]"
   ]
  },
  {
   "cell_type": "code",
   "execution_count": 70,
   "metadata": {
    "collapsed": false
   },
   "outputs": [
    {
     "name": "stdout",
     "output_type": "stream",
     "text": [
      "[ 0.  0.  0.  0.]\n"
     ]
    }
   ],
   "source": [
    "for a,b in zip(thetas,accuracies):\n",
    "    print(a)\n",
    "    break"
   ]
  },
  {
   "cell_type": "code",
   "execution_count": 108,
   "metadata": {
    "collapsed": false
   },
   "outputs": [
    {
     "data": {
      "text/plain": [
       "[0.15789473684210525]"
      ]
     },
     "execution_count": 108,
     "metadata": {},
     "output_type": "execute_result"
    }
   ],
   "source": [
    "opt"
   ]
  },
  {
   "cell_type": "code",
   "execution_count": 62,
   "metadata": {
    "collapsed": false
   },
   "outputs": [
    {
     "data": {
      "text/plain": [
       "(array([   2,   12,   22, ..., 9972, 9982, 9992]),\n",
       " array([3, 3, 3, ..., 3, 3, 3]))"
      ]
     },
     "execution_count": 62,
     "metadata": {},
     "output_type": "execute_result"
    }
   ],
   "source": [
    "np.where(thetas==[ 0.9 ,  0.9 ,  1.35,  0.9 ])"
   ]
  },
  {
   "cell_type": "code",
   "execution_count": 63,
   "metadata": {
    "collapsed": false
   },
   "outputs": [
    {
     "data": {
      "text/plain": [
       "(10000, 4)"
      ]
     },
     "execution_count": 63,
     "metadata": {},
     "output_type": "execute_result"
    }
   ],
   "source": [
    "thetas.shape"
   ]
  },
  {
   "cell_type": "code",
   "execution_count": 66,
   "metadata": {
    "collapsed": false
   },
   "outputs": [
    {
     "data": {
      "text/plain": [
       "4000"
      ]
     },
     "execution_count": 66,
     "metadata": {},
     "output_type": "execute_result"
    }
   ],
   "source": [
    "sum(thetas==[ 0.9 ,  0.9 ,  1.35,  0.9 ])"
   ]
  },
  {
   "cell_type": "code",
   "execution_count": 73,
   "metadata": {
    "collapsed": false
   },
   "outputs": [
    {
     "data": {
      "text/plain": [
       "6334"
      ]
     },
     "execution_count": 73,
     "metadata": {},
     "output_type": "execute_result"
    }
   ],
   "source": [
    "np.argmax(accuracies)"
   ]
  },
  {
   "cell_type": "code",
   "execution_count": 74,
   "metadata": {
    "collapsed": false
   },
   "outputs": [
    {
     "data": {
      "text/plain": [
       "array([ 2.7 ,  1.35,  1.35,  1.8 ])"
      ]
     },
     "execution_count": 74,
     "metadata": {},
     "output_type": "execute_result"
    }
   ],
   "source": [
    "thetas[6334]"
   ]
  },
  {
   "cell_type": "code",
   "execution_count": 102,
   "metadata": {
    "collapsed": false
   },
   "outputs": [],
   "source": [
    "rmses = np.loadtxt('rmses.csv',delimiter=',')"
   ]
  },
  {
   "cell_type": "code",
   "execution_count": 103,
   "metadata": {
    "collapsed": false
   },
   "outputs": [
    {
     "data": {
      "text/plain": [
       "10000"
      ]
     },
     "execution_count": 103,
     "metadata": {},
     "output_type": "execute_result"
    }
   ],
   "source": [
    "len(rmses)"
   ]
  },
  {
   "cell_type": "code",
   "execution_count": 105,
   "metadata": {
    "collapsed": false
   },
   "outputs": [
    {
     "data": {
      "text/plain": [
       "6334"
      ]
     },
     "execution_count": 105,
     "metadata": {},
     "output_type": "execute_result"
    }
   ],
   "source": [
    "np.argmin(rmses)"
   ]
  },
  {
   "cell_type": "code",
   "execution_count": 106,
   "metadata": {
    "collapsed": false
   },
   "outputs": [
    {
     "data": {
      "text/plain": [
       "0.063157894736842107"
      ]
     },
     "execution_count": 106,
     "metadata": {},
     "output_type": "execute_result"
    }
   ],
   "source": [
    "rmses[6334]"
   ]
  },
  {
   "cell_type": "code",
   "execution_count": 114,
   "metadata": {
    "collapsed": true
   },
   "outputs": [],
   "source": [
    "from sklearn.utils.extmath import cartesian\n",
    "l = np.arange(0,4.5,1.5)\n",
    "l4 = [l for i in range(4)]\n",
    "thetas = cartesian(l4)"
   ]
  },
  {
   "cell_type": "code",
   "execution_count": 115,
   "metadata": {
    "collapsed": false
   },
   "outputs": [
    {
     "data": {
      "text/plain": [
       "81"
      ]
     },
     "execution_count": 115,
     "metadata": {},
     "output_type": "execute_result"
    }
   ],
   "source": [
    "len(thetas)"
   ]
  },
  {
   "cell_type": "code",
   "execution_count": 120,
   "metadata": {
    "collapsed": true
   },
   "outputs": [],
   "source": [
    "theta = np.random.uniform(0,4.5,4)"
   ]
  },
  {
   "cell_type": "code",
   "execution_count": 7,
   "metadata": {
    "collapsed": false
   },
   "outputs": [],
   "source": []
  },
  {
   "cell_type": "code",
   "execution_count": 10,
   "metadata": {
    "collapsed": false
   },
   "outputs": [
    {
     "data": {
      "text/plain": [
       "43"
      ]
     },
     "execution_count": 10,
     "metadata": {},
     "output_type": "execute_result"
    }
   ],
   "source": [
    "w.writerow([dlp_wrbf.accuracies[-1],dlp_wrbf.labeled_losses[-1],dlp_wrbf.unlabeled_losses[-1],dlp_wrbf.sol_accuracies[-1],dlp_wrbf.sol_unlabeled_losses[-1]])"
   ]
  },
  {
   "cell_type": "code",
   "execution_count": 9,
   "metadata": {
    "collapsed": true
   },
   "outputs": [],
   "source": []
  },
  {
   "cell_type": "code",
   "execution_count": 6,
   "metadata": {
    "collapsed": false
   },
   "outputs": [],
   "source": [
    "import time\n",
    "start = time.time()\n",
    "import csv \n",
    "import sys\n",
    "\n",
    "w = csv.writer(open('no_reg.csv', 'a'), delimiter=',')\n",
    "w1 = csv.writer(open('reg.csv', 'a'), delimiter=',')\n",
    "\n",
    "i=0\n",
    "\n",
    "sess = tf.Session()\n",
    "theta = np.random.uniform(0,4.5,4)\n",
    "dlp_wrbf = DeepLP_WeightedRBF(10, num_nodes, features, graph, np.var(features), theta, 0.01, sess, 0)\n"
   ]
  },
  {
   "cell_type": "code",
   "execution_count": null,
   "metadata": {
    "collapsed": false
   },
   "outputs": [
    {
     "name": "stdout",
     "output_type": "stream",
     "text": [
      "----------------------------------\n",
      "theta: 0 [ 1.21520854  2.95770488  4.04396896  3.21243129]\n",
      "----------------------------------\n",
      "epoch: -1 labeled loss: 0.476467 unlabeled loss: 0.385625 accuracy: 0.12 sol unlabeled loss: 0.317383 sol accuracy: 0.147368\n"
     ]
    }
   ],
   "source": [
    "\n",
    "while True:\n",
    "    \n",
    "    theta = np.random.uniform(0,4.5,4)\n",
    "    print(\"----------------------------------\")\n",
    "    print(\"theta:\",str(i),theta)\n",
    "    print(\"----------------------------------\")    \n",
    "    \n",
    "    dlp_wrbf.train(data,test_data,100,theta,0)\n",
    "    \n",
    "    w.writerow([dlp_wrbf.accuracies[-1],dlp_wrbf.labeled_losses[-1],dlp_wrbf.unlabeled_losses[-1],dlp_wrbf.sol_accuracies[-1],dlp_wrbf.sol_unlabeled_losses[-1]])\n",
    "    \n",
    "    end = time.time()\n",
    "    print(end - start)\n",
    "    print(\"----------------------------------\")\n",
    "    \n",
    "    dlp_wrbf.train(data,test_data,100,theta,0.1)\n",
    "    \n",
    "    w1.writerow([dlp_wrbf.accuracies[-1],dlp_wrbf.labeled_losses[-1],dlp_wrbf.unlabeled_losses[-1],dlp_wrbf.sol_accuracies[-1],dlp_wrbf.sol_unlabeled_losses[-1]])\n",
    "    \n",
    "    end = time.time()\n",
    "    print(end - start)\n",
    "    i+=1\n"
   ]
  },
  {
   "cell_type": "code",
   "execution_count": 22,
   "metadata": {
    "collapsed": false
   },
   "outputs": [],
   "source": [
    "np.savetxt('sol_unlabeled_losses_fin1_1.csv',sol_unlabeled_losses1,delimiter=',')"
   ]
  },
  {
   "cell_type": "code",
   "execution_count": null,
   "metadata": {
    "collapsed": true
   },
   "outputs": [],
   "source": [
    "accuracies=[]\n",
    "labeled_losses=[]\n",
    "unlabeled_losses=[]\n",
    "sol_accuracies=[]\n",
    "sol_unlabeled_losses=[]\n",
    "accuracies1=[]\n",
    "labeled_losses1=[]\n",
    "unlabeled_losses1=[]\n",
    "sol_accuracies1=[]\n",
    "sol_unlabeled_losses1=[]"
   ]
  }
 ],
 "metadata": {
  "kernelspec": {
   "display_name": "ml",
   "language": "python",
   "name": "ml"
  },
  "language_info": {
   "codemirror_mode": {
    "name": "ipython",
    "version": 3
   },
   "file_extension": ".py",
   "mimetype": "text/x-python",
   "name": "python",
   "nbconvert_exporter": "python",
   "pygments_lexer": "ipython3",
   "version": "3.6.2"
  }
 },
 "nbformat": 4,
 "nbformat_minor": 1
}
